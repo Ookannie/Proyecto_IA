{
 "cells": [
  {
   "cell_type": "markdown",
   "metadata": {},
   "source": [
    "# Biblioteca Scikit, algoritmos, particion de BD, evaluaciones"
   ]
  },
  {
   "cell_type": "markdown",
   "metadata": {},
   "source": [
    "                     "
   ]
  },
  {
   "cell_type": "markdown",
   "metadata": {},
   "source": [
    "              "
   ]
  },
  {
   "cell_type": "markdown",
   "metadata": {},
   "source": [
    "# K-Means"
   ]
  },
  {
   "cell_type": "markdown",
   "metadata": {},
   "source": [
    "K-Means (traducido como K-Medias en español), es un método de agrupamiento o clustering.\n",
    "\n",
    "El clustering es una técnica para encontrar y clasificar K grupos de datos (clusters). \n",
    "Así, los elementos que comparten características semejantes estarán juntos en un mismo grupo, \n",
    "separados de los otros grupos con los que no comparten características. \n",
    "\n",
    "Para saber si los datos son parecidos o diferentes el algoritmo K-means utiliza la distancia entre los datos.\n",
    "Las observaciones que se parecen tendrán una menor distancia entre ellas"
   ]
  },
  {
   "cell_type": "markdown",
   "metadata": {},
   "source": [
    "                      "
   ]
  },
  {
   "cell_type": "markdown",
   "metadata": {},
   "source": [
    "### Importar librerias"
   ]
  },
  {
   "cell_type": "markdown",
   "metadata": {},
   "source": [
    "Utilizaremos la librería Scikit que cuenta con algoritmos de clasificación, \n",
    "regresión, clustering, además obtenedremos el dataset iris.\n",
    "\n",
    "Importaremos también la librería pandas para analizar resultados finales."
   ]
  },
  {
   "cell_type": "code",
   "execution_count": null,
   "metadata": {},
   "outputs": [],
   "source": [
    "from sklearn.datasets import load_iris  \n",
    "from sklearn.cluster import KMeans as KM\n",
    "from sklearn.model_selection import cross_val_score\n",
    "import pandas as pd"
   ]
  },
  {
   "cell_type": "markdown",
   "metadata": {},
   "source": [
    "### Cargar dataset Iris"
   ]
  },
  {
   "cell_type": "markdown",
   "metadata": {},
   "source": [
    "Para esta actividad utilizaremos el dataset Iris, la cual es utilizada frecuentemente para el  aprendizaje de machine learning; este dataset cuenta con la información y características de \n",
    "tres tipos de flores.\n",
    "\n",
    "En la siguiente celda, se carga el dataset a la variable iris y luego se imprimen sus etiquetas,\n",
    "clases y características."
   ]
  },
  {
   "cell_type": "code",
   "execution_count": null,
   "metadata": {},
   "outputs": [],
   "source": [
    "# Cargar la base de datos iris\n",
    "iris = load_iris()\n",
    "\n",
    "print(\"--------------Etiquetas---------------\")\n",
    "print(list(iris.target))\n",
    "print(\"--------------Nombre de las clases--------------\")\n",
    "print(iris.target_names)\n",
    "print(\"--------------Nombre de las características--------------\")\n",
    "print(iris.feature_names)"
   ]
  },
  {
   "cell_type": "markdown",
   "metadata": {},
   "source": [
    "Obtenemos y mostramos las primeras cuatro características del dataset, la información será utilizada en las predicciones más adelante"
   ]
  },
  {
   "cell_type": "code",
   "execution_count": null,
   "metadata": {},
   "outputs": [],
   "source": [
    "X = iris.data[:, :4]\n",
    "print(X)"
   ]
  },
  {
   "cell_type": "markdown",
   "metadata": {},
   "source": [
    "## Clusters"
   ]
  },
  {
   "cell_type": "markdown",
   "metadata": {},
   "source": [
    "Al utilizar K-Means, es necesario asignar la cantidad de clusters que se quieren crear.\n",
    "En nuestro caso, elegimos crear tres clusters."
   ]
  },
  {
   "cell_type": "code",
   "execution_count": null,
   "metadata": {},
   "outputs": [],
   "source": [
    "#Cantidad de clusters a crear\n",
    "kmeans = KM(n_clusters = 3)\n"
   ]
  },
  {
   "cell_type": "markdown",
   "metadata": {},
   "source": [
    "## Modelo"
   ]
  },
  {
   "cell_type": "markdown",
   "metadata": {},
   "source": [
    "Para obtener nuestro modelo, debemos pasarle los datos de nuestro dataset y este sea entrenado.\n",
    "\n",
    "Los datos de entrada serán las características de las flores."
   ]
  },
  {
   "cell_type": "code",
   "execution_count": null,
   "metadata": {},
   "outputs": [],
   "source": [
    "\n",
    "#modelo\n",
    "model = kmeans.fit(iris.data)"
   ]
  },
  {
   "cell_type": "code",
   "execution_count": null,
   "metadata": {},
   "outputs": [],
   "source": [
    "print(model.labels_)\n"
   ]
  },
  {
   "cell_type": "markdown",
   "metadata": {},
   "source": [
    "### Centroides"
   ]
  },
  {
   "cell_type": "markdown",
   "metadata": {},
   "source": [
    "Antes habíamos asignado la cantidad de clusters que se crearían para nuestro modelo; cada uno de esos clusters tiene un\n",
    "representante denominado centroide, el cual será utilizado para hacer las observaciones de los puntos cercanos.\n",
    "\n",
    "Estos centroides son asignados aleatoriamente por el algoritmo, en la siguiente celda se realiza una consulta de la ubicación\n",
    "de los centroides."
   ]
  },
  {
   "cell_type": "code",
   "execution_count": null,
   "metadata": {},
   "outputs": [],
   "source": [
    "model.cluster_centers_"
   ]
  },
  {
   "cell_type": "markdown",
   "metadata": {},
   "source": [
    "## Predicciones"
   ]
  },
  {
   "cell_type": "markdown",
   "metadata": {},
   "source": [
    "Para las predicciones, tomaremos un conjunto de características, que podemos consultar en celdas anteriores; con esta predicción podemos saber a que conjunto pertenece."
   ]
  },
  {
   "cell_type": "code",
   "execution_count": null,
   "metadata": {},
   "outputs": [],
   "source": [
    "\n",
    "print(model.predict([[6.7, 3.,  5.,  1.7]]))\n",
    "\n",
    "print(model.predict([[6.3, 2.5, 5.,  1.9]]))\n",
    "\n",
    "print(model.predict([[6.3, 3.4, 5.6, 2.4]]))"
   ]
  },
  {
   "cell_type": "markdown",
   "metadata": {},
   "source": [
    "### Validaciones"
   ]
  },
  {
   "cell_type": "markdown",
   "metadata": {},
   "source": [
    "Se realiza la validación cruzada de los datos"
   ]
  },
  {
   "cell_type": "code",
   "execution_count": null,
   "metadata": {},
   "outputs": [],
   "source": [
    "scores = cross_val_score(model, iris.data, iris.target, cv=5)\n",
    "scores "
   ]
  },
  {
   "cell_type": "markdown",
   "metadata": {},
   "source": [
    "Para este análisis utilizamos la librería pandas que devuelve la tabla de contingencia resultante de cruzar dos o más campos"
   ]
  },
  {
   "cell_type": "code",
   "execution_count": null,
   "metadata": {},
   "outputs": [],
   "source": [
    "pd.crosstab(model.labels_, iris.target)"
   ]
  }
 ],
 "metadata": {
  "kernelspec": {
   "display_name": "Python 3",
   "language": "python",
   "name": "python3"
  },
  "language_info": {
   "codemirror_mode": {
    "name": "ipython",
    "version": 3
   },
   "file_extension": ".py",
   "mimetype": "text/x-python",
   "name": "python",
   "nbconvert_exporter": "python",
   "pygments_lexer": "ipython3",
   "version": "3.8.5"
  }
 },
 "nbformat": 4,
 "nbformat_minor": 4
}
