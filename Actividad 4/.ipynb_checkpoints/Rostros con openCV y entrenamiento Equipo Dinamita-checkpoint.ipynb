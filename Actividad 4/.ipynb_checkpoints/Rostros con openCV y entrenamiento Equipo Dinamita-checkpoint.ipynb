{
 "cells": [
  {
   "cell_type": "markdown",
   "metadata": {},
   "source": [
    "# Rostros con openCV y entrenamiento Equipo Dinamita"
   ]
  },
  {
   "cell_type": "markdown",
   "metadata": {},
   "source": [
    "\n",
    "\n",
    "\n",
    "\n",
    "\n",
    "### Importar bibliotecas"
   ]
  },
  {
   "cell_type": "code",
   "execution_count": 4,
   "metadata": {},
   "outputs": [],
   "source": [
    "import cv2\n",
    "import os\n",
    "import numpy as np\n",
    "from matplotlib import pyplot as plt"
   ]
  },
  {
   "cell_type": "markdown",
   "metadata": {},
   "source": [
    "### Etiquetas"
   ]
  },
  {
   "cell_type": "code",
   "execution_count": 2,
   "metadata": {},
   "outputs": [],
   "source": [
    "subjects = [\"\", \"Fernando\", \"Eydrel\",\"Sergio\",\"Gerardo\",\"Ana\"]"
   ]
  },
  {
   "cell_type": "markdown",
   "metadata": {},
   "source": [
    "### Detectar rostros por medio de una función"
   ]
  },
  {
   "cell_type": "code",
   "execution_count": 1,
   "metadata": {},
   "outputs": [],
   "source": [
    "def detect_face(img):\n",
    "    #Se convierte la imagen a escala de grises para ser usada por el detector\n",
    "    gray = cv2.cvtColor(img, cv2.COLOR_BGR2GRAY)\n",
    " \n",
    "    #Se lee el modelo de clasificador. \n",
    "    face_cascade = cv2.CascadeClassifier('haarcascade_frontalface_default.xml')\n",
    " \n",
    "    #Se detectan rostros y se almacenan en la variable faces\n",
    "    faces = face_cascade.detectMultiScale(gray, scaleFactor=1.2, minNeighbors=5);\n",
    " \n",
    "    #Si no se detecta rostros se regresa la imagen original\n",
    "    if (len(faces) == 0):\n",
    "        return None, None\n",
    " \n",
    "    #Suponemos que solo tendremos un rostro\n",
    "    #Se extra el área del rostro\n",
    "    (x, y, w, h) = faces[0]\n",
    " \n",
    "    #Se regresa únicamente la parte del rostro en la imagen\n",
    "    return gray[y:y+w, x:x+h], faces[0]"
   ]
  },
  {
   "cell_type": "markdown",
   "metadata": {},
   "source": [
    "### Lectura de la base de datos y preparación de los datos para su entrenamiento"
   ]
  },
  {
   "cell_type": "code",
   "execution_count": 2,
   "metadata": {},
   "outputs": [],
   "source": [
    "def prepare_training_data(data_folder_path):\n",
    "    \n",
    "    #------Paso 1--------\n",
    "    #Obten las carpetas dentro de la ruta con las imagenes de entrenamiento. Cada carpeta corresponde a un sujeto.\n",
    "    dirs = os.listdir(data_folder_path)\n",
    "    \n",
    "    #Lista que contendrá las caras de todos los sujetos\n",
    "    faces = []\n",
    "    #Lista que contendrá las etiquetas de todos los sujetos\n",
    "    labels = []\n",
    "    \n",
    "    # Navegamos a traves de todas las carpetas y leemos las imágenes dentro de cada carpeta\n",
    "    for dir_name in dirs:\n",
    "        \n",
    "        # Las carpetas de cada sujeto empiezan con la letra 's', por lo tanto, cualquier carpeta que no empeza con s se ignora\n",
    "        if not dir_name.startswith(\"s\"):\n",
    "            continue;\n",
    "            \n",
    "        #------Paso 2--------\n",
    "        # Se extrae el número de etiqueta del sujeto a partir del nombre de la carpeta\n",
    "        # Recuerda el formato de la carpeta = slabel\n",
    "        # Removemos la letra \"s\" y nos quedamos solo con el número (Esto es la etiqueta)        \n",
    "        label = int(dir_name.replace(\"s\", \"\"))\n",
    "        \n",
    "        # Construimos la ruta hacia la carpeta que contiene las imagenes del sujeto actual\n",
    "        # Ejemplo de ruta = \"./images/traindata/s1\"\n",
    "        subject_dir_path = data_folder_path + \"/\" + dir_name\n",
    "        \n",
    "        #Se obtienen los nombres de las imagenes que estan dentro de cada carpeta\n",
    "        subject_images_names = os.listdir(subject_dir_path)\n",
    "        \n",
    "        #------Paso 3--------\n",
    "        #Navegamos a través de cada imagen y la leemos\n",
    "        #detectamos los rostros y los agregamos a la lista\n",
    "        for image_name in subject_images_names:\n",
    "            \n",
    "            #Para ignorar archivos del sistema como .DS_Store\n",
    "            if image_name.startswith(\".\"):\n",
    "                continue;\n",
    "            \n",
    "            #se construye la ruta de la imagen que se va a leer\n",
    "            #Ejemplo de ruta = ./images/traindata/s1/1.jpg\n",
    "            image_path = subject_dir_path + \"/\" + image_name\n",
    "\n",
    "            #leer la imagen\n",
    "            image = cv2.imread(image_path)\n",
    "                      \n",
    "            #detección de rostro (usando la función definida arriba)\n",
    "            face, rect = detect_face(image)\n",
    "            \n",
    "            #------Paso 4--------\n",
    "            #Para propositos de este tutorial\n",
    "            #se ignoran los rostros que no son detectados\n",
    "            if face is not None:\n",
    "                #se agrega el rostro a la lista de rostros\n",
    "                faces.append(face)\n",
    "                #se agrega la etiqueta a la lista de etiquetas\n",
    "                labels.append(label)\n",
    "                \n",
    "    return faces, labels"
   ]
  },
  {
   "cell_type": "markdown",
   "metadata": {},
   "source": [
    "### Se llama la función prepara datos"
   ]
  },
  {
   "cell_type": "code",
   "execution_count": 5,
   "metadata": {},
   "outputs": [
    {
     "name": "stdout",
     "output_type": "stream",
     "text": [
      "Preparando datos...\n",
      "Datos preparados\n",
      "Total faces:  35\n",
      "Total labels:  35\n"
     ]
    }
   ],
   "source": [
    "print(\"Preparando datos...\")\n",
    "faces, labels = prepare_training_data(\"./imagenes/traindata\")\n",
    "print(\"Datos preparados\")\n",
    "\n",
    "#Se imprime el total de rostros y etiquetas encontrados\n",
    "print(\"Total faces: \", len(faces))\n",
    "print(\"Total labels: \", len(labels))"
   ]
  },
  {
   "cell_type": "markdown",
   "metadata": {},
   "source": [
    "### Reconocimiento de rostros"
   ]
  },
  {
   "cell_type": "code",
   "execution_count": 6,
   "metadata": {},
   "outputs": [],
   "source": [
    "face_recognizer = cv2.face.LBPHFaceRecognizer_create()"
   ]
  },
  {
   "cell_type": "markdown",
   "metadata": {},
   "source": [
    "### Entrenamiento"
   ]
  },
  {
   "cell_type": "code",
   "execution_count": 7,
   "metadata": {},
   "outputs": [],
   "source": [
    "face_recognizer.train(faces, np.array(labels))"
   ]
  },
  {
   "cell_type": "markdown",
   "metadata": {},
   "source": [
    "### Dibujar las regiones con rostro"
   ]
  },
  {
   "cell_type": "code",
   "execution_count": 8,
   "metadata": {},
   "outputs": [],
   "source": [
    "# fucnión para dibujar un rectángulo en la imagen de acuerdo a las coordenadas (x,y) dadas \n",
    "# con la altura y anchura width and height\n",
    "def draw_rectangle(img, rect):\n",
    "    (x, y, w, h) = rect\n",
    "    cv2.rectangle(img, (x, y), (x+w, y+h), (0, 255, 0), 2)\n",
    "\n",
    "# función para dibujar texto en una imagen dada empezando desde las coordenadas (x,y) pasadas\n",
    "def draw_text(img, text, x, y):\n",
    "    cv2.putText(img, text, (x, y), cv2.FONT_HERSHEY_PLAIN, 1.5, (0, 255, 0), 2)"
   ]
  },
  {
   "cell_type": "markdown",
   "metadata": {},
   "source": [
    "## Predicción"
   ]
  },
  {
   "cell_type": "code",
   "execution_count": 12,
   "metadata": {},
   "outputs": [],
   "source": [
    "def predict(test_img):\n",
    "    #Hacemos una copia para no modificar la imagen original\n",
    "    img = test_img.copy()\n",
    "    #Se detecta el rostro de la imagen\n",
    "    face, rect = detect_face(img)\n",
    "\n",
    "    #Se predice a que etiqueta pertenece la imagen usando el reconocedor\n",
    "    (label,confidence)= face_recognizer.predict(face)\n",
    "    #Se obtiene el nombre del sujeto dada la etiqueta predicha\n",
    "    label_text = subjects[label]\n",
    "    \n",
    "    #Se dibuja un rectangulo en donde esta contenido el rostro\n",
    "    draw_rectangle(img, rect)\n",
    "    #Se coloca el nombre de la persona\n",
    "    draw_text(img, label_text, rect[0], rect[1]-5)\n",
    "    \n",
    "    return img"
   ]
  },
  {
   "cell_type": "code",
   "execution_count": 13,
   "metadata": {},
   "outputs": [
    {
     "name": "stdout",
     "output_type": "stream",
     "text": [
      "Prediciendo imagenes...\n"
     ]
    },
    {
     "ename": "error",
     "evalue": "OpenCV(4.0.1) C:\\ci\\opencv-suite_1573470242804\\work\\modules\\core\\src\\matrix.cpp:235: error: (-215:Assertion failed) s >= 0 in function 'cv::setSize'\n",
     "output_type": "error",
     "traceback": [
      "\u001b[1;31m---------------------------------------------------------------------------\u001b[0m",
      "\u001b[1;31merror\u001b[0m                                     Traceback (most recent call last)",
      "\u001b[1;32m<ipython-input-13-7e7f26971bc4>\u001b[0m in \u001b[0;36m<module>\u001b[1;34m\u001b[0m\n\u001b[0;32m      9\u001b[0m \u001b[1;33m\u001b[0m\u001b[0m\n\u001b[0;32m     10\u001b[0m \u001b[1;31m#Predecir\u001b[0m\u001b[1;33m\u001b[0m\u001b[1;33m\u001b[0m\u001b[1;33m\u001b[0m\u001b[0m\n\u001b[1;32m---> 11\u001b[1;33m \u001b[0mpredicted_img1\u001b[0m \u001b[1;33m=\u001b[0m \u001b[0mpredict\u001b[0m\u001b[1;33m(\u001b[0m\u001b[0mtest_img1\u001b[0m\u001b[1;33m)\u001b[0m\u001b[1;33m\u001b[0m\u001b[1;33m\u001b[0m\u001b[0m\n\u001b[0m\u001b[0;32m     12\u001b[0m \u001b[0mpredicted_img2\u001b[0m \u001b[1;33m=\u001b[0m \u001b[0mpredict\u001b[0m\u001b[1;33m(\u001b[0m\u001b[0mtest_img2\u001b[0m\u001b[1;33m)\u001b[0m\u001b[1;33m\u001b[0m\u001b[1;33m\u001b[0m\u001b[0m\n\u001b[0;32m     13\u001b[0m \u001b[0mpredicted_img3\u001b[0m \u001b[1;33m=\u001b[0m \u001b[0mpredict\u001b[0m\u001b[1;33m(\u001b[0m\u001b[0mtest_img3\u001b[0m\u001b[1;33m)\u001b[0m\u001b[1;33m\u001b[0m\u001b[1;33m\u001b[0m\u001b[0m\n",
      "\u001b[1;32m<ipython-input-12-125f57c33960>\u001b[0m in \u001b[0;36mpredict\u001b[1;34m(test_img)\u001b[0m\n\u001b[0;32m      6\u001b[0m \u001b[1;33m\u001b[0m\u001b[0m\n\u001b[0;32m      7\u001b[0m     \u001b[1;31m#Se predice a que etiqueta pertenece la imagen usando el reconocedor\u001b[0m\u001b[1;33m\u001b[0m\u001b[1;33m\u001b[0m\u001b[1;33m\u001b[0m\u001b[0m\n\u001b[1;32m----> 8\u001b[1;33m     \u001b[1;33m(\u001b[0m\u001b[0mlabel\u001b[0m\u001b[1;33m,\u001b[0m\u001b[0mconfidence\u001b[0m\u001b[1;33m)\u001b[0m\u001b[1;33m=\u001b[0m \u001b[0mface_recognizer\u001b[0m\u001b[1;33m.\u001b[0m\u001b[0mpredict\u001b[0m\u001b[1;33m(\u001b[0m\u001b[0mface\u001b[0m\u001b[1;33m)\u001b[0m\u001b[1;33m\u001b[0m\u001b[1;33m\u001b[0m\u001b[0m\n\u001b[0m\u001b[0;32m      9\u001b[0m     \u001b[1;31m#Se obtiene el nombre del sujeto dada la etiqueta predicha\u001b[0m\u001b[1;33m\u001b[0m\u001b[1;33m\u001b[0m\u001b[1;33m\u001b[0m\u001b[0m\n\u001b[0;32m     10\u001b[0m     \u001b[0mlabel_text\u001b[0m \u001b[1;33m=\u001b[0m \u001b[0msubjects\u001b[0m\u001b[1;33m[\u001b[0m\u001b[0mlabel\u001b[0m\u001b[1;33m]\u001b[0m\u001b[1;33m\u001b[0m\u001b[1;33m\u001b[0m\u001b[0m\n",
      "\u001b[1;31merror\u001b[0m: OpenCV(4.0.1) C:\\ci\\opencv-suite_1573470242804\\work\\modules\\core\\src\\matrix.cpp:235: error: (-215:Assertion failed) s >= 0 in function 'cv::setSize'\n"
     ]
    }
   ],
   "source": [
    "print(\"Prediciendo imagenes...\")\n",
    "\n",
    "#Cargar imagenes de prueba\n",
    "test_img1 = cv2.imread(\"./imagenes/testdata/s1/Fernando.8.jpg\")\n",
    "test_img1 = cv2.imread(\"./imagenes/testdata/s2/Eydrel.8.jpg\")\n",
    "test_img1 = cv2.imread(\"./imagenes/testdata/s3/Sergio.8.jpg\")\n",
    "test_img1 = cv2.imread(\"./imagenes/testdata/s4/Gerardo.8.jpg\")\n",
    "test_img1 = cv2.imread(\"./imagenes/testdata/s5/Ana.8.jpg\")\n",
    "\n",
    "#Predecir\n",
    "predicted_img1 = predict(test_img1)\n",
    "predicted_img2 = predict(test_img2)\n",
    "predicted_img3 = predict(test_img3)\n",
    "predicted_img4 = predict(test_img4)\n",
    "predicted_img5 = predict(test_img5)\n",
    "print(\"Predicción completa\")\n",
    "\n",
    "\n",
    "#Desplegar imágenes\n",
    "plt.imshow(predicted_img1)\n",
    "plt.show()\n",
    "plt.imshow(predicted_img2)\n",
    "plt.show()\n",
    "plt.imshow(predicted_img3)\n",
    "plt.show()\n",
    "plt.imshow(predicted_img4)\n",
    "plt.show()\n",
    "plt.imshow(predicted_img5)\n",
    "plt.show()\n"
   ]
  },
  {
   "cell_type": "code",
   "execution_count": null,
   "metadata": {},
   "outputs": [],
   "source": []
  }
 ],
 "metadata": {
  "kernelspec": {
   "display_name": "Python 3",
   "language": "python",
   "name": "python3"
  },
  "language_info": {
   "codemirror_mode": {
    "name": "ipython",
    "version": 3
   },
   "file_extension": ".py",
   "mimetype": "text/x-python",
   "name": "python",
   "nbconvert_exporter": "python",
   "pygments_lexer": "ipython3",
   "version": "3.8.5"
  }
 },
 "nbformat": 4,
 "nbformat_minor": 4
}
